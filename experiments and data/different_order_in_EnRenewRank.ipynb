{
 "cells": [
  {
   "cell_type": "code",
   "execution_count": null,
   "metadata": {},
   "outputs": [],
   "source": [
    "import networkx as nx\n",
    "from method import *\n",
    "import matplotlib.pyplot as plt\n",
    "import numpy as np\n",
    "from tqdm import tqdm\n",
    "import pickle"
   ]
  },
  {
   "cell_type": "code",
   "execution_count": null,
   "metadata": {},
   "outputs": [],
   "source": [
    "data_file = 'HepPh'\n",
    "G = nx.read_adjlist(data_file)\n",
    "G.remove_edges_from(G.selfloop_edges())\n",
    "for node in nx.nodes(G):\n",
    "    if G.degree(node) == 0:\n",
    "        G.remove_node(node)"
   ]
  },
  {
   "cell_type": "code",
   "execution_count": null,
   "metadata": {},
   "outputs": [],
   "source": [
    "print(nx.number_of_nodes(G), nx.number_of_edges(G))"
   ]
  },
  {
   "cell_type": "code",
   "execution_count": null,
   "metadata": {},
   "outputs": [],
   "source": [
    "r = [0.0015, 0.003, 0.0045, 0.006, 0.0075, 0.009]\n",
    "topk_list = []\n",
    "for k in r:\n",
    "    topk = round(nx.number_of_nodes(G) * k)\n",
    "    print(k, topk)\n",
    "    topk_list.append(topk)"
   ]
  },
  {
   "cell_type": "code",
   "execution_count": null,
   "metadata": {},
   "outputs": [],
   "source": [
    "max_topk = round(r[-1] * nx.number_of_nodes(G))\n",
    "newmethod_1_rank = EnRenewRank(G, max_topk, 1)\n",
    "print('done')\n",
    "newmethod_2_rank = EnRenewRank(G, max_topk, 2)\n",
    "print('done')\n",
    "newmethod_3_rank = EnRenewRank(G, max_topk, 3)\n",
    "print('done')\n",
    "newmethod_4_rank = EnRenewRank(G, max_topk, 4)\n",
    "print('done')"
   ]
  },
  {
   "cell_type": "code",
   "execution_count": null,
   "metadata": {},
   "outputs": [],
   "source": [
    "infect_prob = compute_probability(G) * 1.5\n",
    "atio = 1.5\n",
    "cover_prob = infect_prob / atio\n",
    "avg = 100\n",
    "max_iter = 200000"
   ]
  },
  {
   "cell_type": "markdown",
   "metadata": {},
   "source": [
    "## Different order"
   ]
  },
  {
   "cell_type": "code",
   "execution_count": null,
   "metadata": {},
   "outputs": [],
   "source": [
    "%%time\n",
    "newmethod_1_rankresult = []\n",
    "newmethod_2_rankresult = []\n",
    "newmethod_3_rankresult = []\n",
    "newmethod_4_rankresult = []\n",
    "\n",
    "\n",
    "for k in tqdm(topk_list):\n",
    "    topk = k\n",
    "    newmethod_1_rankresult.append(get_sir_result(G, newmethod_1_rank, topk, avg, infect_prob, cover_prob, max_iter)[-1] / nx.number_of_nodes(G))\n",
    "    newmethod_2_rankresult.append(get_sir_result(G, newmethod_2_rank, topk, avg, infect_prob, cover_prob, max_iter)[-1] / nx.number_of_nodes(G))\n",
    "    newmethod_3_rankresult.append(get_sir_result(G, newmethod_3_rank, topk, avg, infect_prob, cover_prob, max_iter)[-1] / nx.number_of_nodes(G))\n",
    "    newmethod_4_rankresult.append(get_sir_result(G, newmethod_4_rank, topk, avg, infect_prob, cover_prob, max_iter)[-1] / nx.number_of_nodes(G))"
   ]
  },
  {
   "cell_type": "code",
   "execution_count": null,
   "metadata": {
    "scrolled": false
   },
   "outputs": [],
   "source": [
    "%matplotlib notebook\n",
    "plt.title('network:{}   avg:{}  i/r:{}   infect_prob:{}'.format(data_file, avg, atio, infect_prob))\n",
    "plt.plot(np.array(topk_list) / nx.number_of_nodes(G), newmethod_1_rankresult, 'r-o', label='order=1')\n",
    "plt.plot(np.array(topk_list) / nx.number_of_nodes(G), newmethod_2_rankresult, 'b-o', label='order=2')\n",
    "plt.plot(np.array(topk_list) / nx.number_of_nodes(G), newmethod_3_rankresult, 'y-o', label='order=3')\n",
    "plt.plot(np.array(topk_list) / nx.number_of_nodes(G), newmethod_4_rankresult, 'g-o', label='order=4')\n",
    "plt.legend()\n",
    "plt.show()"
   ]
  },
  {
   "cell_type": "code",
   "execution_count": null,
   "metadata": {},
   "outputs": [],
   "source": []
  }
 ],
 "metadata": {
  "kernelspec": {
   "display_name": "Python 3",
   "language": "python",
   "name": "python3"
  },
  "language_info": {
   "codemirror_mode": {
    "name": "ipython",
    "version": 3
   },
   "file_extension": ".py",
   "mimetype": "text/x-python",
   "name": "python",
   "nbconvert_exporter": "python",
   "pygments_lexer": "ipython3",
   "version": "3.6.4"
  }
 },
 "nbformat": 4,
 "nbformat_minor": 2
}
