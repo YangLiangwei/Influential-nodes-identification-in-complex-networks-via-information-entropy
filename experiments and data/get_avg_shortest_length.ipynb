{
 "cells": [
  {
   "cell_type": "code",
   "execution_count": null,
   "metadata": {},
   "outputs": [],
   "source": [
    "import networkx as nx\n",
    "from paper import *\n",
    "import matplotlib.pyplot as plt\n",
    "import numpy as np\n",
    "from tqdm import tqdm\n",
    "import pickle"
   ]
  },
  {
   "cell_type": "code",
   "execution_count": null,
   "metadata": {},
   "outputs": [],
   "source": [
    "data = 'amazon'\n",
    "r = [0.00005, 0.0001, 0.00015, 0.0002, 0.00025, 0.0003]\n",
    "\n",
    "data_file = data\n",
    "G = nx.read_adjlist(data_file)\n",
    "G.remove_edges_from(G.selfloop_edges())\n",
    "for node in nx.nodes(G):\n",
    "    if G.degree(node) == 0:\n",
    "        G.remove_node(node)"
   ]
  },
  {
   "cell_type": "code",
   "execution_count": null,
   "metadata": {},
   "outputs": [],
   "source": [
    "topk_list = []\n",
    "for k in r:\n",
    "    topk = round(nx.number_of_nodes(G) * k)\n",
    "    print(k, topk)\n",
    "    topk_list.append(topk)"
   ]
  },
  {
   "cell_type": "code",
   "execution_count": null,
   "metadata": {},
   "outputs": [],
   "source": [
    "max_ = r[-1]\n",
    "max_topk = round(max_ * nx.number_of_nodes(G))\n",
    "print(max_topk)\n",
    "\n",
    "degreerank = degree(G, max_topk)\n",
    "print('done!')\n",
    "degreerank_non = degree_non(G, max_topk)\n",
    "print('done!')\n",
    "\n",
    "vote = voterank(G, max_topk)\n",
    "print('done!')\n",
    "vote_non = voterank_non(G, max_topk)\n",
    "print('done!')\n",
    "\n",
    "newmethod_rank = EnRenewRank(G, max_topk, 2)\n",
    "print('done!')\n",
    "\n",
    "kshell_rank = kshell(G, max_topk)\n",
    "print('done!')\n",
    "kshell_rank_non = kshell_non(G, max_topk)\n",
    "print('done!')"
   ]
  },
  {
   "cell_type": "markdown",
   "metadata": {},
   "source": [
    "## compute the average shortest path in the initial node set"
   ]
  },
  {
   "cell_type": "code",
   "execution_count": null,
   "metadata": {},
   "outputs": [],
   "source": [
    "degree_ls = []\n",
    "degree_non_ls = []\n",
    "voterank_ls = []\n",
    "voterank_non_ls = []\n",
    "new_methed_ls = []\n",
    "new_methed_non_ls = []\n",
    "kshell_ls = []\n",
    "kshell_non_ls = []\n",
    "    \n",
    "for k in tqdm(topk_list):\n",
    "    topk = k\n",
    "    degree_ls.append(get_ls(G, [x[0] for x in degreerank[:topk]]))\n",
    "    degree_non_ls.append(get_ls(G, [x[0] for x in degreerank_non[:topk]]))\n",
    "    voterank_ls.append(get_ls(G, [x[0] for x in vote[:topk]]))\n",
    "    voterank_non_ls.append(get_ls(G, [x[0] for x in vote_non[:topk]]))\n",
    "    new_methed_ls.append(get_ls(G, [x[0] for x in newmethod_rank[:topk]]))\n",
    "    new_methed_non_ls.append(get_ls(G, [x[0] for x in newmethod_rank_non[:topk]]))\n",
    "    kshell_ls.append(get_ls(G, [x[0] for x in kshell_rank[:topk]]))\n",
    "    kshell_non_ls.append(get_ls(G, [x[0] for x in kshell_rank_non[:topk]]))\n"
   ]
  },
  {
   "cell_type": "code",
   "execution_count": null,
   "metadata": {},
   "outputs": [],
   "source": [
    "%matplotlib notebook\n",
    "plt.title('network:{} '.format(data_file))\n",
    "plt.plot(np.array(topk_list) / nx.number_of_nodes(G), degree_ls, 'r-o', label='degree', linewidth=1.0, )\n",
    "plt.plot(np.array(topk_list) / nx.number_of_nodes(G), degree_non_ls, 'r--o', label='degree_non', linewidth=1.0, )\n",
    "plt.plot(np.array(topk_list) / nx.number_of_nodes(G), voterank_ls, 'y-s', label='vote', linewidth=1.0, )\n",
    "plt.plot(np.array(topk_list) / nx.number_of_nodes(G), voterank_non_ls, 'y--s', label='vote_non', linewidth=1.0, )\n",
    "plt.plot(np.array(topk_list) / nx.number_of_nodes(G), kshell_ls, 'g-p', label='kshell', linewidth=1.0, )\n",
    "plt.plot(np.array(topk_list) / nx.number_of_nodes(G), kshell_non_ls, 'g--p', label='kshell_non', linewidth=1.0, )\n",
    "plt.plot(np.array(topk_list) / nx.number_of_nodes(G), new_methed_ls, 'b-^', label='EnRenew', linewidth=1.0, )\n",
    "plt.plot(np.array(topk_list) / nx.number_of_nodes(G), new_methed_non_ls, 'b--^', label='EnRenew_non', linewidth=1.0, )\n",
    "plt.legend()\n",
    "plt.show()"
   ]
  },
  {
   "cell_type": "code",
   "execution_count": null,
   "metadata": {},
   "outputs": [],
   "source": []
  }
 ],
 "metadata": {
  "kernelspec": {
   "display_name": "Python 3",
   "language": "python",
   "name": "python3"
  },
  "language_info": {
   "codemirror_mode": {
    "name": "ipython",
    "version": 3
   },
   "file_extension": ".py",
   "mimetype": "text/x-python",
   "name": "python",
   "nbconvert_exporter": "python",
   "pygments_lexer": "ipython3",
   "version": "3.6.4"
  }
 },
 "nbformat": 4,
 "nbformat_minor": 2
}
