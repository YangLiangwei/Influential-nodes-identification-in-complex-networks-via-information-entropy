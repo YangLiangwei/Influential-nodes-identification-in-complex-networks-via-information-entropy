{
 "cells": [
  {
   "cell_type": "code",
   "execution_count": null,
   "metadata": {},
   "outputs": [],
   "source": [
    "import networkx as nx\n",
    "from paper import *\n",
    "import matplotlib.pyplot as plt\n",
    "import numpy as np\n",
    "from tqdm import tqdm\n",
    "import pickle"
   ]
  },
  {
   "cell_type": "code",
   "execution_count": null,
   "metadata": {},
   "outputs": [],
   "source": [
    "data_file = 'router'\n",
    "G = nx.read_adjlist(data_file)\n",
    "G.remove_edges_from(G.selfloop_edges())\n",
    "for node in nx.nodes(G):\n",
    "    if G.degree(node) == 0:\n",
    "        G.remove_node(node)"
   ]
  },
  {
   "cell_type": "code",
   "execution_count": null,
   "metadata": {},
   "outputs": [],
   "source": [
    "print(nx.number_of_nodes(G), nx.number_of_edges(G))"
   ]
  },
  {
   "cell_type": "code",
   "execution_count": null,
   "metadata": {},
   "outputs": [],
   "source": [
    "max_ = 0.03\n",
    "max_topk = round(max_ * nx.number_of_nodes(G))\n",
    "print(max_topk)\n",
    "degreerank = degree(G, max_topk)\n",
    "print('done!')\n",
    "degreerank_non = degree_non(G, max_topk)\n",
    "print('done!')\n",
    "\n",
    "vote = voterank(G, max_topk)\n",
    "print('done!')\n",
    "vote_non = voterank_non(G, max_topk)\n",
    "print('done!')\n",
    "\n",
    "newmethod_rank = EnRenewRank(G, max_topk, 2)\n",
    "print('done!')\n",
    "\n",
    "kshell_rank = kshell(G, max_topk)\n",
    "print('done!')\n",
    "kshell_rank_non = kshell_non(G, max_topk)\n",
    "print('done!')"
   ]
  },
  {
   "cell_type": "markdown",
   "metadata": {},
   "source": [
    "## SIR_time"
   ]
  },
  {
   "cell_type": "code",
   "execution_count": null,
   "metadata": {},
   "outputs": [],
   "source": [
    "infect_prob = compute_probability(G) * 1.5\n",
    "avg = 100\n",
    "max_iter = 200000\n",
    "atio = 1.5\n",
    "cover_prob = infect_prob / atio\n",
    "topk = max_topk\n",
    "\n",
    "\n",
    "degreerank_result = get_sir_result(G, degreerank, topk, avg, infect_prob, cover_prob, max_iter) / nx.number_of_nodes(G)\n",
    "print('done!')\n",
    "degreerank_non_result = get_sir_result(G, degreerank_non, topk, avg, infect_prob, cover_prob, max_iter) / nx.number_of_nodes(G)\n",
    "print('done!')\n",
    "voterank_result = get_sir_result(G, vote, topk, avg, infect_prob, cover_prob, max_iter) / nx.number_of_nodes(G)\n",
    "print('done!')\n",
    "voterank_non_result = get_sir_result(G, vote_non, topk, avg, infect_prob, cover_prob, max_iter) / nx.number_of_nodes(G)\n",
    "print('done!')\n",
    "newmethod_result = get_sir_result(G, newmethod_rank, topk, avg, infect_prob, cover_prob, max_iter) / nx.number_of_nodes(G)\n",
    "print('done!')\n",
    "kshell_result = get_sir_result(G, kshell_rank, topk, avg, infect_prob, cover_prob, max_iter) / nx.number_of_nodes(G)\n",
    "print('done!')\n",
    "kshell_non_result = get_sir_result(G, kshell_rank_non, topk, avg, infect_prob, cover_prob, max_iter) / nx.number_of_nodes(G)\n",
    "print('done!')"
   ]
  },
  {
   "cell_type": "code",
   "execution_count": null,
   "metadata": {},
   "outputs": [],
   "source": [
    "max_len = max([len(degreerank_result),\n",
    "                len(degreerank_non_result),\n",
    "                len(voterank_result),\n",
    "                len(voterank_non_result),\n",
    "                len(newmethod_result),\n",
    "                len(newmethod_non_result),\n",
    "                len(kshell_result),\n",
    "                len(kshell_non_result)])"
   ]
  },
  {
   "cell_type": "code",
   "execution_count": null,
   "metadata": {},
   "outputs": [],
   "source": [
    "degreerank_array = np.ones(max_len) * degreerank_result[-1]\n",
    "degreerank_non_array = np.ones(max_len) * degreerank_non_result[-1]\n",
    "voterank_array = np.ones(max_len) * voterank_result[-1]\n",
    "voterank_non_array = np.ones(max_len) * voterank_non_result[-1]\n",
    "newmethod_array = np.ones(max_len) * newmethod_result[-1]\n",
    "kshell_array = np.ones(max_len) * kshell_result[-1]\n",
    "kshell_non_array = np.ones(max_len) * kshell_non_result[-1]\n",
    "\n",
    "degreerank_array[:len(degreerank_result)] = degreerank_result\n",
    "degreerank_non_array[:len(degreerank_non_result)] = degreerank_non_result\n",
    "voterank_array[:len(voterank_result)] = voterank_result\n",
    "voterank_non_array[:len(voterank_non_result)] = voterank_non_result\n",
    "newmethod_array[:len(newmethod_result)] = newmethod_result\n",
    "kshell_array[:len(kshell_result)] = kshell_result\n",
    "kshell_non_array[:len(kshell_non_result)] = kshell_non_result"
   ]
  },
  {
   "cell_type": "code",
   "execution_count": null,
   "metadata": {
    "scrolled": false
   },
   "outputs": [],
   "source": [
    "%matplotlib notebook\n",
    "plt.title('network:{}   avg:{}  max:{}   infect_prob:{}'.format(data_file, avg, max_, infect_prob))\n",
    "plt.plot(np.array(range(max_len)), degreerank_array, 'r-', label='degree', linewidth=1.0, )\n",
    "plt.plot(np.array(range(max_len)), degreerank_non_array, 'r--', label='degree_non', linewidth=1.0, )\n",
    "plt.plot(np.array(range(max_len)), voterank_array, 'y-', label='vote', linewidth=1.0, )\n",
    "plt.plot(np.array(range(max_len)), voterank_non_array, 'y--', label='vote_non', linewidth=1.0, )\n",
    "plt.plot(np.array(range(max_len)), newmethod_array, 'b-', label='EnRenew', linewidth=1.0, )\n",
    "plt.plot(np.array(range(max_len)), kshell_array, 'g-', label='kshell', linewidth=1.0, )\n",
    "plt.plot(np.array(range(max_len)), kshell_non_array, 'g--', label='kshell_non', linewidth=1.0, )\n",
    "plt.legend()\n",
    "plt.show()"
   ]
  },
  {
   "cell_type": "code",
   "execution_count": null,
   "metadata": {},
   "outputs": [],
   "source": []
  }
 ],
 "metadata": {
  "kernelspec": {
   "display_name": "Python 3",
   "language": "python",
   "name": "python3"
  },
  "language_info": {
   "codemirror_mode": {
    "name": "ipython",
    "version": 3
   },
   "file_extension": ".py",
   "mimetype": "text/x-python",
   "name": "python",
   "nbconvert_exporter": "python",
   "pygments_lexer": "ipython3",
   "version": "3.6.4"
  }
 },
 "nbformat": 4,
 "nbformat_minor": 2
}
