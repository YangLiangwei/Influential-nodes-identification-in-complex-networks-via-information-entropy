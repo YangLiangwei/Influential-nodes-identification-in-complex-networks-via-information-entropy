{
 "cells": [
  {
   "cell_type": "code",
   "execution_count": null,
   "metadata": {},
   "outputs": [],
   "source": [
    "import networkx as nx\n",
    "from paper import *\n",
    "import matplotlib.pyplot as plt\n",
    "import numpy as np\n",
    "from tqdm import tqdm\n",
    "import pickle"
   ]
  },
  {
   "cell_type": "markdown",
   "metadata": {},
   "source": [
    "## load data"
   ]
  },
  {
   "cell_type": "code",
   "execution_count": null,
   "metadata": {},
   "outputs": [],
   "source": [
    "data_file = 'HepPh'\n",
    "G = nx.read_adjlist(data_file)\n",
    "G.remove_edges_from(G.selfloop_edges())\n",
    "for node in nx.nodes(G):\n",
    "    if G.degree(node) == 0:\n",
    "        G.remove_node(node)"
   ]
  },
  {
   "cell_type": "code",
   "execution_count": null,
   "metadata": {},
   "outputs": [],
   "source": [
    "print(nx.number_of_nodes(G), nx.number_of_edges(G))"
   ]
  },
  {
   "cell_type": "markdown",
   "metadata": {},
   "source": [
    "## get initial node sets"
   ]
  },
  {
   "cell_type": "code",
   "execution_count": null,
   "metadata": {},
   "outputs": [],
   "source": [
    "max_ = 0.009\n",
    "max_topk = round(max_ * nx.number_of_nodes(G))\n",
    "print(max_topk)\n",
    "\n",
    "degreerank = degree(G, max_topk)\n",
    "print('done!')\n",
    "degreerank_non = degree_non(G, max_topk)\n",
    "print('done!')\n",
    "\n",
    "vote = voterank(G, max_topk)\n",
    "print('done!')\n",
    "vote_non = voterank_non(G, max_topk)\n",
    "print('done!')\n",
    "\n",
    "kshell_rank = kshell(G, max_topk)\n",
    "print('done!')\n",
    "kshell_rank_non = kshell_non(G, max_topk)\n",
    "print('done!')\n",
    "\n",
    "newmethod_rank = EnRenewRank(G, max_topk, 2)\n",
    "print('done!')\n",
    "\n"
   ]
  },
  {
   "cell_type": "markdown",
   "metadata": {},
   "source": [
    "## Different initial infection set sizes"
   ]
  },
  {
   "cell_type": "code",
   "execution_count": null,
   "metadata": {},
   "outputs": [],
   "source": [
    "r = [0.0015, 0.003, 0.0045, 0.006, 0.0075, 0.009]\n",
    "# r = [0.005, 0.01, 0.015, 0.02, 0.025, 0.03]\n",
    "topk_list = []\n",
    "for k in r:\n",
    "    topk = round(nx.number_of_nodes(G) * k)\n",
    "    print(k, topk)\n",
    "    topk_list.append(topk)\n",
    "    \n",
    "infect_prob = compute_probability(G) * 1.5\n",
    "print(infect_prob)\n",
    "atio = 1.5\n",
    "cover_prob = infect_prob / atio\n",
    "avg = 100\n",
    "max_iter = 200000\n",
    "\n",
    "degreerank_result = []\n",
    "degreerank_non_result = []\n",
    "vote_result = []\n",
    "vote_non_result = []\n",
    "newmethod_result = []\n",
    "newmethod_non_result = []\n",
    "kshell_result = []\n",
    "kshell_non_result = []\n",
    "\n",
    "for k in tqdm(topk_list):\n",
    "    topk = k\n",
    "    degreerank_result.append(get_sir_result(G, degreerank, topk, avg, infect_prob, cover_prob, max_iter)[-1] / nx.number_of_nodes(G))\n",
    "    degreerank_non_result.append(get_sir_result(G, degreerank_non, topk, avg, infect_prob, cover_prob, max_iter)[-1] / nx.number_of_nodes(G))\n",
    "    vote_result.append(get_sir_result(G, vote, topk, avg, infect_prob, cover_prob, max_iter)[-1] / nx.number_of_nodes(G))\n",
    "    vote_non_result.append(get_sir_result(G, vote_non, topk, avg, infect_prob, cover_prob, max_iter)[-1] / nx.number_of_nodes(G))\n",
    "    kshell_result.append(get_sir_result(G, kshell_rank, topk, avg, infect_prob, cover_prob, max_iter)[-1] / nx.number_of_nodes(G))\n",
    "    kshell_non_result.append(get_sir_result(G, kshell_rank_non, topk, avg, infect_prob, cover_prob, max_iter)[-1] / nx.number_of_nodes(G))\n",
    "    newmethod_result.append(get_sir_result(G, newmethod_rank, topk, avg, infect_prob, cover_prob, max_iter)[-1] / nx.number_of_nodes(G))"
   ]
  },
  {
   "cell_type": "code",
   "execution_count": null,
   "metadata": {},
   "outputs": [],
   "source": [
    "%matplotlib notebook\n",
    "plt.title('network:{}   avg:{}  i/r:{}   infect_prob:{}'.format(data_file, avg, atio, infect_prob))\n",
    "plt.plot(np.array(topk_list) / nx.number_of_nodes(G), degreerank_result, 'r-o', label='degree', linewidth=1.0, )\n",
    "plt.plot(np.array(topk_list) / nx.number_of_nodes(G), degreerank_non_result, 'r--o', label='degree_non', linewidth=1.0, )\n",
    "plt.plot(np.array(topk_list) / nx.number_of_nodes(G), vote_result, 'y-s', label='vote', linewidth=1.0, )\n",
    "plt.plot(np.array(topk_list) / nx.number_of_nodes(G), vote_non_result, 'y--s', label='vote_non', linewidth=1.0, )\n",
    "plt.plot(np.array(topk_list) / nx.number_of_nodes(G), kshell_result, 'g-p', label='kshell', linewidth=1.0, )\n",
    "plt.plot(np.array(topk_list) / nx.number_of_nodes(G), kshell_non_result, 'g--p', label='kshell_non', linewidth=1.0, )\n",
    "plt.plot(np.array(topk_list) / nx.number_of_nodes(G), newmethod_result, 'b-^', label='EnRenew', linewidth=1.0, )\n",
    "plt.legend()\n",
    "plt.show()"
   ]
  }
 ],
 "metadata": {
  "kernelspec": {
   "display_name": "Python 3",
   "language": "python",
   "name": "python3"
  },
  "language_info": {
   "codemirror_mode": {
    "name": "ipython",
    "version": 3
   },
   "file_extension": ".py",
   "mimetype": "text/x-python",
   "name": "python",
   "nbconvert_exporter": "python",
   "pygments_lexer": "ipython3",
   "version": "3.6.4"
  }
 },
 "nbformat": 4,
 "nbformat_minor": 2
}
